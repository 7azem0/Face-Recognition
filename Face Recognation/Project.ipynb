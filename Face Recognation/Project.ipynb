{
 "cells": [
  {
   "cell_type": "markdown",
   "id": "4c513baf-8526-43df-9564-fd9e56ee820b",
   "metadata": {},
   "source": [
    "Face Verification with a Siamese Network"
   ]
  },
  {
   "cell_type": "code",
   "execution_count": null,
   "id": "e340864b-e167-4ed2-ba91-8c3521c0763e",
   "metadata": {
    "scrolled": true
   },
   "outputs": [],
   "source": [
    "%pip install tensorflow==2.4.1 opencv-python matplotlib"
   ]
  },
  {
   "cell_type": "code",
   "execution_count": 1,
   "id": "1bfaedd0-c51a-4ef8-973e-ccf3c7cd2fcd",
   "metadata": {},
   "outputs": [],
   "source": [
    "import cv2\n",
    "import os\n",
    "import random\n",
    "import numpy as np\n",
    "from matplotlib import pyplot as plt"
   ]
  },
  {
   "cell_type": "code",
   "execution_count": 2,
   "id": "16637319-216a-4be0-8494-ecc97d6ffec1",
   "metadata": {
    "scrolled": true
   },
   "outputs": [],
   "source": [
    "from tensorflow.keras.models import Model\n",
    "from tensorflow.keras.layers import Layer , Conv2D , Dense , MaxPooling2D , Input , Flatten\n",
    "import tensorflow as tf"
   ]
  },
  {
   "cell_type": "code",
   "execution_count": 3,
   "id": "68831831-adeb-4baf-a20a-98dfca79a71b",
   "metadata": {},
   "outputs": [],
   "source": [
    "POS_PATH = os.path.join('data', 'positive')\n",
    "NEG_PATH = os.path.join('data', 'negative')\n",
    "ANC_PATH = os.path.join('data', 'anchor')"
   ]
  },
  {
   "cell_type": "code",
   "execution_count": null,
   "id": "3277a14f-da54-4947-9d46-f7c7f4a272eb",
   "metadata": {},
   "outputs": [],
   "source": [
    "os.makedirs(POS_PATH)\n",
    "os.makedirs(NEG_PATH)\n",
    "os.makedirs(ANC_PATH)"
   ]
  },
  {
   "cell_type": "markdown",
   "id": "9335a0f8",
   "metadata": {},
   "source": [
    "Collecting Positive , Negative and Anchors"
   ]
  },
  {
   "cell_type": "code",
   "execution_count": 7,
   "id": "fd293531",
   "metadata": {},
   "outputs": [],
   "source": [
    "#Move LFW Images to the data/negative directory \n",
    "\n",
    "for directory in os.listdir('lfw'):\n",
    "    for file in os.listdir(os.path.join('lfw', directory)):\n",
    "        EX_PATH = os.path.join('lfw', directory, file)\n",
    "        NEW_PATH = os.path.join(NEG_PATH, file)\n",
    "        os.replace(EX_PATH, NEW_PATH)"
   ]
  },
  {
   "cell_type": "code",
   "execution_count": 4,
   "id": "3b48c44d",
   "metadata": {},
   "outputs": [],
   "source": [
    "import uuid"
   ]
  },
  {
   "cell_type": "code",
   "execution_count": 5,
   "id": "aa68be28",
   "metadata": {},
   "outputs": [
    {
     "data": {
      "text/plain": [
       "UUID('1f07124e-15bd-11f0-bd8c-485f99bcb960')"
      ]
     },
     "execution_count": 5,
     "metadata": {},
     "output_type": "execute_result"
    }
   ],
   "source": [
    "uuid.uuid1()"
   ]
  },
  {
   "cell_type": "code",
   "execution_count": null,
   "id": "7e9475c0",
   "metadata": {},
   "outputs": [],
   "source": [
    "# Establish a coneection to a webcam\n",
    "cap = cv2.VideoCapture(0)\n",
    "while cap.isOpened():\n",
    "    ret, frame = cap.read()\n",
    "\n",
    "    frame = frame[70:70+250,270:270+250, :]\n",
    "\n",
    "\n",
    "    if cv2.waitKey(1) & 0xFF == ord('a'):\n",
    "        imgname = os.path.join(ANC_PATH, '{}.jpg'.format(uuid.uuid1()))\n",
    "        cv2.imwrite(imgname, frame)\n",
    "\n",
    "    if cv2.waitKey(1) & 0xFF == ord('o'):\n",
    "        imgname = os.path.join(POS_PATH, '{}.jpg'.format(uuid.uuid1()))\n",
    "        cv2.imwrite(imgname, frame)\n",
    "\n",
    "\n",
    "\n",
    "    cv2.imshow('Kill your self already', frame)\n",
    "\n",
    "    if cv2.waitKey(1) & 0xFF == ord('q'):\n",
    "        break\n",
    "cap.release()\n",
    "cv2.destroyAllWindows()"
   ]
  },
  {
   "cell_type": "markdown",
   "id": "4eab891b",
   "metadata": {},
   "source": [
    "Get Image Directories"
   ]
  },
  {
   "cell_type": "code",
   "execution_count": 6,
   "id": "793aba65",
   "metadata": {},
   "outputs": [],
   "source": [
    "anchor = tf.data.Dataset.list_files(ANC_PATH+'\\*.jpg').take(300)\n",
    "positive = tf.data.Dataset.list_files(POS_PATH+'\\*.jpg').take(300)\n",
    "negative = tf.data.Dataset.list_files(NEG_PATH+'\\*.jpg').take(300)"
   ]
  },
  {
   "cell_type": "code",
   "execution_count": 7,
   "id": "d9408cd1",
   "metadata": {},
   "outputs": [],
   "source": [
    "Test_Dir = anchor.as_numpy_iterator()"
   ]
  },
  {
   "cell_type": "code",
   "execution_count": 14,
   "id": "5f535f0c",
   "metadata": {},
   "outputs": [
    {
     "data": {
      "text/plain": [
       "b'data\\\\anchor\\\\d12be3a9-1222-11f0-9502-485f99bcb95f.jpg'"
      ]
     },
     "execution_count": 14,
     "metadata": {},
     "output_type": "execute_result"
    }
   ],
   "source": [
    "Test_Dir.next()"
   ]
  },
  {
   "cell_type": "code",
   "execution_count": null,
   "id": "4d730dc8-cc34-48c6-ad33-a6758e6777b0",
   "metadata": {},
   "outputs": [],
   "source": [
    "def preprocess(file_path):\n",
    "    byte_img = tf.io.read_file(file_path)\n",
    "    img = tf.io.decode_jpeg(byte_img)\n",
    "    img = tf.image.resize(img, (100,100))\n",
    "    img = img / 255.0 # Devide every pixel by 255 to ensure it only has a value between 0 and 1\n",
    "    return img"
   ]
  },
  {
   "cell_type": "code",
   "execution_count": null,
   "id": "f41b6e3d",
   "metadata": {},
   "outputs": [],
   "source": [
    "preprocess('data\\\\anchor\\\\d12be3a9-1222-11f0-9502-485f99bcb95f.jpg')"
   ]
  },
  {
   "cell_type": "markdown",
   "id": "5420627e",
   "metadata": {},
   "source": [
    "Create Labelled Dataset"
   ]
  },
  {
   "cell_type": "code",
   "execution_count": null,
   "id": "14e084a1",
   "metadata": {},
   "outputs": [],
   "source": [
    "tf.ones(len(anchor))"
   ]
  },
  {
   "cell_type": "code",
   "execution_count": 27,
   "id": "473c9834",
   "metadata": {},
   "outputs": [],
   "source": [
    "# (anchor, positive) => 1,1,1,1,1,1\n",
    "# (anchor, negative) => 0,0,0,0,0,0\n",
    "\n",
    "positives = tf.data.Dataset.zip((anchor, positive, tf.data.Dataset.from_tensor_slices(tf.ones(len(anchor)))))\n",
    "negatives = tf.data.Dataset.zip((anchor, negative, tf.data.Dataset.from_tensor_slices(tf.zeros(len(anchor)))))\n",
    "data = positives.concatenate(negatives)"
   ]
  },
  {
   "cell_type": "code",
   "execution_count": 28,
   "id": "bd3220eb",
   "metadata": {},
   "outputs": [],
   "source": [
    "example = data.as_numpy_iterator()"
   ]
  },
  {
   "cell_type": "code",
   "execution_count": 29,
   "id": "641eaa17",
   "metadata": {},
   "outputs": [
    {
     "data": {
      "text/plain": [
       "(b'data\\\\anchor\\\\c977d278-1221-11f0-9a10-485f99bcb95f.jpg',\n",
       " b'data\\\\positive\\\\0548a600-1222-11f0-a43c-485f99bcb95f.jpg',\n",
       " 1.0)"
      ]
     },
     "execution_count": 29,
     "metadata": {},
     "output_type": "execute_result"
    }
   ],
   "source": [
    "example.next()"
   ]
  },
  {
   "cell_type": "code",
   "execution_count": 42,
   "id": "48849be6",
   "metadata": {},
   "outputs": [],
   "source": [
    "Test = example.next()"
   ]
  },
  {
   "cell_type": "code",
   "execution_count": 43,
   "id": "627af06e",
   "metadata": {},
   "outputs": [],
   "source": [
    "def preprocess_twin(input_img, validation_img, label):\n",
    "    return(preprocess(input_img), preprocess(validation_img), label)"
   ]
  },
  {
   "cell_type": "code",
   "execution_count": 56,
   "id": "652335bc",
   "metadata": {},
   "outputs": [
    {
     "data": {
      "text/plain": [
       "(<tf.Tensor: shape=(100, 100, 3), dtype=float32, numpy=\n",
       " array([[[0.18014705, 0.20269608, 0.20490196],\n",
       "         [0.16887255, 0.18259804, 0.12696078],\n",
       "         [0.1487745 , 0.15661764, 0.10980392],\n",
       "         ...,\n",
       "         [0.15367647, 0.13161765, 0.05833333],\n",
       "         [0.18995099, 0.15906863, 0.08578432],\n",
       "         [0.20122549, 0.17524509, 0.1       ]],\n",
       " \n",
       "        [[0.16789216, 0.18872549, 0.21102941],\n",
       "         [0.15759803, 0.17524509, 0.14583333],\n",
       "         [0.14338236, 0.15      , 0.1264706 ],\n",
       "         ...,\n",
       "         [0.14607844, 0.1367647 , 0.05955882],\n",
       "         [0.17524509, 0.15857843, 0.07916667],\n",
       "         [0.1889706 , 0.18161765, 0.09705883]],\n",
       " \n",
       "        [[0.18848039, 0.22034314, 0.23259804],\n",
       "         [0.15833333, 0.1870098 , 0.13970588],\n",
       "         [0.12818627, 0.14215687, 0.1002451 ],\n",
       "         ...,\n",
       "         [0.1375    , 0.14240196, 0.05784314],\n",
       "         [0.15980393, 0.15490197, 0.07254902],\n",
       "         [0.18308823, 0.18308823, 0.08897059]],\n",
       " \n",
       "        ...,\n",
       " \n",
       "        [[0.55245095, 0.5622549 , 0.51029414],\n",
       "         [0.03553922, 0.04730392, 0.01053922],\n",
       "         [0.0120098 , 0.02156863, 0.00612745],\n",
       "         ...,\n",
       "         [0.03137255, 0.02745098, 0.00784314],\n",
       "         [0.03137255, 0.02745098, 0.00784314],\n",
       "         [0.02843137, 0.02843137, 0.        ]],\n",
       " \n",
       "        [[0.5806373 , 0.59632355, 0.5414216 ],\n",
       "         [0.02279412, 0.04338235, 0.00367647],\n",
       "         [0.00661765, 0.02647059, 0.00220588],\n",
       "         ...,\n",
       "         [0.03529412, 0.03137255, 0.01176471],\n",
       "         [0.03529412, 0.03137255, 0.01176471],\n",
       "         [0.03529412, 0.03529412, 0.00294118]],\n",
       " \n",
       "        [[0.5987745 , 0.6223039 , 0.56740195],\n",
       "         [0.01446078, 0.0379902 , 0.        ],\n",
       "         [0.00367647, 0.02720588, 0.        ],\n",
       "         ...,\n",
       "         [0.03921569, 0.03529412, 0.01568628],\n",
       "         [0.03921569, 0.03529412, 0.01568628],\n",
       "         [0.03921569, 0.03921569, 0.00588235]]], dtype=float32)>,\n",
       " <tf.Tensor: shape=(100, 100, 3), dtype=float32, numpy=\n",
       " array([[[0.19901961, 0.19803922, 0.20882353],\n",
       "         [0.18333334, 0.18137255, 0.14607844],\n",
       "         [0.13063726, 0.11691176, 0.07843138],\n",
       "         ...,\n",
       "         [0.16127451, 0.13578431, 0.04852941],\n",
       "         [0.2125    , 0.17156863, 0.08431373],\n",
       "         [0.23039216, 0.18333334, 0.08921569]],\n",
       " \n",
       "        [[0.2009804 , 0.20563726, 0.21519607],\n",
       "         [0.17524509, 0.17818627, 0.14485294],\n",
       "         [0.14583333, 0.1377451 , 0.10465686],\n",
       "         ...,\n",
       "         [0.17524509, 0.15465686, 0.06985294],\n",
       "         [0.19093138, 0.1615196 , 0.07377451],\n",
       "         [0.20490196, 0.16470589, 0.07941177]],\n",
       " \n",
       "        [[0.18455882, 0.20245098, 0.1879902 ],\n",
       "         [0.1757353 , 0.18235295, 0.13088235],\n",
       "         [0.1247549 , 0.1254902 , 0.07696079],\n",
       "         ...,\n",
       "         [0.15588236, 0.14509805, 0.0632353 ],\n",
       "         [0.16985294, 0.14926471, 0.06887255],\n",
       "         [0.20490196, 0.18431373, 0.09803922]],\n",
       " \n",
       "        ...,\n",
       " \n",
       "        [[0.46348038, 0.4625    , 0.4370098 ],\n",
       "         [0.03921569, 0.04411765, 0.01372549],\n",
       "         [0.04142157, 0.05      , 0.00857843],\n",
       "         ...,\n",
       "         [0.02916667, 0.03308824, 0.01053922],\n",
       "         [0.03529412, 0.03921569, 0.01666667],\n",
       "         [0.03627451, 0.04117647, 0.00686275]],\n",
       " \n",
       "        [[0.52009803, 0.52794117, 0.47401962],\n",
       "         [0.05882353, 0.06813726, 0.01323529],\n",
       "         [0.06887255, 0.08406863, 0.02622549],\n",
       "         ...,\n",
       "         [0.03357843, 0.0375    , 0.01495098],\n",
       "         [0.03210784, 0.03602941, 0.01348039],\n",
       "         [0.04509804, 0.05      , 0.01568628]],\n",
       " \n",
       "        [[0.54240197, 0.54632354, 0.5237745 ],\n",
       "         [0.06985294, 0.0754902 , 0.05220588],\n",
       "         [0.00367647, 0.0122549 , 0.00294118],\n",
       "         ...,\n",
       "         [0.03627451, 0.04705882, 0.02156863],\n",
       "         [0.02254902, 0.03333334, 0.00784314],\n",
       "         [0.04607843, 0.05784314, 0.02058824]]], dtype=float32)>,\n",
       " 1.0)"
      ]
     },
     "execution_count": 56,
     "metadata": {},
     "output_type": "execute_result"
    }
   ],
   "source": [
    "preprocess_twin(*Test)"
   ]
  },
  {
   "cell_type": "markdown",
   "id": "6a3b34a0",
   "metadata": {},
   "source": [
    "Build dataloader pipeline"
   ]
  },
  {
   "cell_type": "code",
   "execution_count": 57,
   "id": "c0ffdcb4",
   "metadata": {},
   "outputs": [],
   "source": [
    "data = data.map(preprocess_twin)\n",
    "data = data.cache()\n",
    "data = data.shuffle(buffer_size=1024)"
   ]
  },
  {
   "cell_type": "code",
   "execution_count": 58,
   "id": "fec5d013",
   "metadata": {},
   "outputs": [],
   "source": [
    "samples = data.as_numpy_iterator()"
   ]
  },
  {
   "cell_type": "code",
   "execution_count": 59,
   "id": "a1a3decf",
   "metadata": {},
   "outputs": [
    {
     "data": {
      "text/plain": [
       "(array([[[0.19436274, 0.21568628, 0.19338235],\n",
       "         [0.18553922, 0.18995099, 0.15784314],\n",
       "         [0.12720588, 0.12720588, 0.08210784],\n",
       "         ...,\n",
       "         [0.13088235, 0.12916666, 0.02745098],\n",
       "         [0.225     , 0.2122549 , 0.10539216],\n",
       "         [0.18921569, 0.17352942, 0.06421569]],\n",
       " \n",
       "        [[0.20196079, 0.20343137, 0.19534314],\n",
       "         [0.18161765, 0.1742647 , 0.15269607],\n",
       "         [0.17230392, 0.15514706, 0.12058824],\n",
       "         ...,\n",
       "         [0.14607844, 0.15171568, 0.05980392],\n",
       "         [0.17671569, 0.16911764, 0.08088236],\n",
       "         [0.2002451 , 0.18382353, 0.08651961]],\n",
       " \n",
       "        [[0.18970588, 0.18970588, 0.18382353],\n",
       "         [0.20367648, 0.18995099, 0.17132352],\n",
       "         [0.14362745, 0.11813726, 0.08872549],\n",
       "         ...,\n",
       "         [0.13382353, 0.13651961, 0.0632353 ],\n",
       "         [0.1622549 , 0.15318628, 0.0759804 ],\n",
       "         [0.18848039, 0.1754902 , 0.09803922]],\n",
       " \n",
       "        ...,\n",
       " \n",
       "        [[0.48039216, 0.49019608, 0.4617647 ],\n",
       "         [0.04068628, 0.04901961, 0.01985294],\n",
       "         [0.02622549, 0.03014706, 0.00098039],\n",
       "         ...,\n",
       "         [0.02426471, 0.02794118, 0.00686275],\n",
       "         [0.02647059, 0.02426471, 0.00833333],\n",
       "         [0.04215686, 0.0382353 , 0.01862745]],\n",
       " \n",
       "        [[0.52916664, 0.5360294 , 0.49583334],\n",
       "         [0.04583333, 0.05269608, 0.01397059],\n",
       "         [0.04019608, 0.04264706, 0.00906863],\n",
       "         ...,\n",
       "         [0.02745098, 0.03039216, 0.01372549],\n",
       "         [0.03014706, 0.02720588, 0.01789216],\n",
       "         [0.04215686, 0.0382353 , 0.01862745]],\n",
       " \n",
       "        [[0.5625    , 0.57034314, 0.51936275],\n",
       "         [0.04313726, 0.04901961, 0.00588235],\n",
       "         [0.04509804, 0.04509804, 0.01176471],\n",
       "         ...,\n",
       "         [0.03431373, 0.0372549 , 0.02058824],\n",
       "         [0.03333334, 0.03039216, 0.02254902],\n",
       "         [0.04411765, 0.04019608, 0.0245098 ]]], dtype=float32),\n",
       " array([[[4.86764699e-01, 2.20588237e-01, 3.43137258e-03],\n",
       "         [5.40686250e-01, 2.88235307e-01, 4.80392165e-02],\n",
       "         [6.66176498e-01, 4.37254906e-01, 1.75735295e-01],\n",
       "         ...,\n",
       "         [6.61764713e-03, 3.67647060e-03, 1.20098041e-02],\n",
       "         [1.64215695e-02, 0.00000000e+00, 4.90196107e-04],\n",
       "         [0.00000000e+00, 4.90196096e-03, 0.00000000e+00]],\n",
       " \n",
       "        [[4.49264705e-01, 1.94117650e-01, 0.00000000e+00],\n",
       "         [5.02451003e-01, 2.62009799e-01, 3.55392173e-02],\n",
       "         [6.33578420e-01, 4.16421562e-01, 1.55882359e-01],\n",
       "         ...,\n",
       "         [3.43137272e-02, 0.00000000e+00, 0.00000000e+00],\n",
       "         [5.00000007e-02, 0.00000000e+00, 0.00000000e+00],\n",
       "         [2.30392162e-02, 7.35294132e-04, 0.00000000e+00]],\n",
       " \n",
       "        [[4.18872535e-01, 1.74509808e-01, 7.35294132e-04],\n",
       "         [4.81372535e-01, 2.47794122e-01, 3.01470589e-02],\n",
       "         [6.13480389e-01, 4.08823520e-01, 1.51960790e-01],\n",
       "         ...,\n",
       "         [3.11274499e-01, 2.19852939e-01, 1.22794114e-01],\n",
       "         [2.91421562e-01, 1.78676471e-01, 7.67156854e-02],\n",
       "         [2.34313726e-01, 1.68627456e-01, 4.80392165e-02]],\n",
       " \n",
       "        ...,\n",
       " \n",
       "        [[5.38480401e-01, 5.30637264e-01, 4.40441191e-01],\n",
       "         [5.31372547e-01, 5.23529410e-01, 4.33333337e-01],\n",
       "         [5.36029398e-01, 5.28186262e-01, 4.37990189e-01],\n",
       "         ...,\n",
       "         [7.01715708e-01, 6.24264717e-01, 4.83333319e-01],\n",
       "         [7.09803939e-01, 6.55147076e-01, 4.31127459e-01],\n",
       "         [3.84803936e-02, 1.05392160e-02, 2.62254905e-02]],\n",
       " \n",
       "        [[5.33088207e-01, 5.25245070e-01, 4.35049027e-01],\n",
       "         [5.17647088e-01, 5.09803951e-01, 4.19607848e-01],\n",
       "         [5.31372547e-01, 5.23529410e-01, 4.33333337e-01],\n",
       "         ...,\n",
       "         [8.07598054e-01, 7.12499976e-01, 4.88970578e-01],\n",
       "         [8.16176474e-01, 7.44117618e-01, 4.52941179e-01],\n",
       "         [6.34803921e-02, 2.42647063e-02, 9.55882389e-03]],\n",
       " \n",
       "        [[5.29411793e-01, 5.21568656e-01, 4.31372553e-01],\n",
       "         [5.15686274e-01, 5.07843137e-01, 4.17647064e-01],\n",
       "         [5.22549033e-01, 5.14705896e-01, 4.24509794e-01],\n",
       "         ...,\n",
       "         [7.96323538e-01, 6.79411769e-01, 5.16421556e-01],\n",
       "         [8.49509776e-01, 7.63480365e-01, 5.02941191e-01],\n",
       "         [4.01960798e-02, 0.00000000e+00, 8.82352982e-03]]], dtype=float32),\n",
       " 0.0)"
      ]
     },
     "execution_count": 59,
     "metadata": {},
     "output_type": "execute_result"
    }
   ],
   "source": [
    "samples.next()"
   ]
  },
  {
   "cell_type": "code",
   "execution_count": 60,
   "id": "47cf0673",
   "metadata": {},
   "outputs": [],
   "source": [
    "samp = samples.next()"
   ]
  },
  {
   "cell_type": "code",
   "execution_count": 63,
   "id": "5342992d",
   "metadata": {},
   "outputs": [
    {
     "data": {
      "text/plain": [
       "<matplotlib.image.AxesImage at 0x25c0a3ba100>"
      ]
     },
     "execution_count": 63,
     "metadata": {},
     "output_type": "execute_result"
    },
    {
     "data": {
      "image/png": "[encoded data removed]",
      "text/plain": [
       "<Figure size 640x480 with 1 Axes>"
      ]
     },
     "metadata": {},
     "output_type": "display_data"
    }
   ],
   "source": [
    "plt.imshow(samp[1])"
   ]
  },
  {
   "cell_type": "code",
   "execution_count": 64,
   "id": "4255bfa0",
   "metadata": {},
   "outputs": [
    {
     "data": {
      "text/plain": [
       "0.0"
      ]
     },
     "execution_count": 64,
     "metadata": {},
     "output_type": "execute_result"
    }
   ],
   "source": [
    "samp[2]"
   ]
  },
  {
   "cell_type": "code",
   "execution_count": 65,
   "id": "aeacab3a",
   "metadata": {},
   "outputs": [],
   "source": [
    "# Training partition\n",
    "train_data = data.take(round(len(data)*.7))\n",
    "train_data = train_data.batch(16)\n",
    "train_data = train_data.prefetch(8)"
   ]
  },
  {
   "cell_type": "code",
   "execution_count": 66,
   "id": "a1bbc081",
   "metadata": {},
   "outputs": [],
   "source": [
    "# Testing partition\n",
    "test_data = data.skip(round(len(data)*.7))\n",
    "test_data = test_data.take(round(len(data)*.3))\n",
    "test_data = test_data.batch(16)\n",
    "test_data = test_data.prefetch(8)"
   ]
  },
  {
   "cell_type": "markdown",
   "id": "ece8806d",
   "metadata": {},
   "source": [
    "Build Embedding Layer"
   ]
  },
  {
   "cell_type": "code",
   "execution_count": 67,
   "id": "1b106961",
   "metadata": {},
   "outputs": [],
   "source": [
    "def Make_embedding():\n",
    "    inp = Input(shape=(100,100,3), name='input_image')\n",
    "\n",
    "    #First Block\n",
    "    c1 = Conv2D(64, (10,10), activation='relu')(inp)\n",
    "    m1 = MaxPooling2D(64, (2,2), padding='same')(c1)\n",
    "\n",
    "    #Second Block\n",
    "    c2 = Conv2D(128, (7,7), activation='relu')(m1)\n",
    "    m2 = MaxPooling2D(64, (2,2), padding='same')(c2)\n",
    "\n",
    "    #Third Block\n",
    "    c3 = Conv2D(128, (4,4), activation='relu')(m2)\n",
    "    m3 = MaxPooling2D(64, (2,2), padding='same')(c3)\n",
    "\n",
    "    #Final Block\n",
    "    c4 = Conv2D(256, (4,4), activation='relu')(m3)\n",
    "    f1 = Flatten()(c4)\n",
    "    d1 = Dense(4096, activation='sigmoid')(f1)\n",
    "\n",
    "\n",
    "    return Model(inputs=[inp], outputs=[d1], name='Embedding')"
   ]
  },
  {
   "cell_type": "code",
   "execution_count": 68,
   "id": "88d79cf0",
   "metadata": {},
   "outputs": [],
   "source": [
    "embedding = Make_embedding()"
   ]
  },
  {
   "cell_type": "code",
   "execution_count": 69,
   "id": "094e3b86",
   "metadata": {},
   "outputs": [
    {
     "name": "stdout",
     "output_type": "stream",
     "text": [
      "Model: \"Embedding\"\n",
      "_________________________________________________________________\n",
      "Layer (type)                 Output Shape              Param #   \n",
      "=================================================================\n",
      "input_image (InputLayer)     [(None, 100, 100, 3)]     0         \n",
      "_________________________________________________________________\n",
      "conv2d (Conv2D)              (None, 91, 91, 64)        19264     \n",
      "_________________________________________________________________\n",
      "max_pooling2d (MaxPooling2D) (None, 46, 46, 64)        0         \n",
      "_________________________________________________________________\n",
      "conv2d_1 (Conv2D)            (None, 40, 40, 128)       401536    \n",
      "_________________________________________________________________\n",
      "max_pooling2d_1 (MaxPooling2 (None, 20, 20, 128)       0         \n",
      "_________________________________________________________________\n",
      "conv2d_2 (Conv2D)            (None, 17, 17, 128)       262272    \n",
      "_________________________________________________________________\n",
      "max_pooling2d_2 (MaxPooling2 (None, 9, 9, 128)         0         \n",
      "_________________________________________________________________\n",
      "conv2d_3 (Conv2D)            (None, 6, 6, 256)         524544    \n",
      "_________________________________________________________________\n",
      "flatten (Flatten)            (None, 9216)              0         \n",
      "_________________________________________________________________\n",
      "dense (Dense)                (None, 4096)              37752832  \n",
      "=================================================================\n",
      "Total params: 38,960,448\n",
      "Trainable params: 38,960,448\n",
      "Non-trainable params: 0\n",
      "_________________________________________________________________\n"
     ]
    }
   ],
   "source": [
    "embedding.summary()"
   ]
  },
  {
   "cell_type": "markdown",
   "id": "daa15006",
   "metadata": {},
   "source": [
    "Build Distance Layer"
   ]
  },
  {
   "cell_type": "code",
   "execution_count": 70,
   "id": "1237e479",
   "metadata": {},
   "outputs": [],
   "source": [
    "class L1Dist(Layer):\n",
    "    def __init__(self, **kwargs):\n",
    "        super().__init__()\n",
    "\n",
    "    def call(self, input_embedding, validation_embedding):\n",
    "        return tf.math.abs(input_embedding - validation_embedding)"
   ]
  },
  {
   "cell_type": "code",
   "execution_count": 71,
   "id": "21c67430",
   "metadata": {},
   "outputs": [],
   "source": [
    "def make_siamese_model():\n",
    "\n",
    "    # Input handler \n",
    "    input_image = Input(name='input_image', shape=(100,100,3))\n",
    "    validation_image = Input(name='validation_image', shape=(100,100,3))\n",
    "\n",
    "    # Combine siamese distance components\n",
    "    siamese_layer = L1Dist()\n",
    "    siamese_layer._name = 'distance'\n",
    "    distances = siamese_layer(embedding(input_image), embedding(validation_image))\n",
    "\n",
    "    # Classification\n",
    "    classifier = Dense(1 , activation='sigmoid')(distances)\n",
    "\n",
    "    return Model(inputs=[input_image, validation_image], outputs=classifier, name='Siamese Network')"
   ]
  },
  {
   "cell_type": "code",
   "execution_count": 72,
   "id": "ed2d0e11",
   "metadata": {},
   "outputs": [],
   "source": [
    "Siamese_Model = make_siamese_model()"
   ]
  },
  {
   "cell_type": "code",
   "execution_count": 73,
   "id": "202a02ab",
   "metadata": {},
   "outputs": [
    {
     "name": "stdout",
     "output_type": "stream",
     "text": [
      "Model: \"Siamese Network\"\n",
      "__________________________________________________________________________________________________\n",
      "Layer (type)                    Output Shape         Param #     Connected to                     \n",
      "==================================================================================================\n",
      "input_image (InputLayer)        [(None, 100, 100, 3) 0                                            \n",
      "__________________________________________________________________________________________________\n",
      "validation_image (InputLayer)   [(None, 100, 100, 3) 0                                            \n",
      "__________________________________________________________________________________________________\n",
      "Embedding (Functional)          (None, 4096)         38960448    input_image[0][0]                \n",
      "                                                                 validation_image[0][0]           \n",
      "__________________________________________________________________________________________________\n",
      "distance (L1Dist)               (None, 4096)         0           Embedding[0][0]                  \n",
      "                                                                 Embedding[1][0]                  \n",
      "__________________________________________________________________________________________________\n",
      "dense_1 (Dense)                 (None, 1)            4097        distance[0][0]                   \n",
      "==================================================================================================\n",
      "Total params: 38,964,545\n",
      "Trainable params: 38,964,545\n",
      "Non-trainable params: 0\n",
      "__________________________________________________________________________________________________\n"
     ]
    }
   ],
   "source": [
    "Siamese_Model.summary()"
   ]
  }
 ],
 "metadata": {
  "kernelspec": {
   "display_name": "Python 3",
   "language": "python",
   "name": "python3"
  },
  "language_info": {
   "codemirror_mode": {
    "name": "ipython",
    "version": 3
   },
   "file_extension": ".py",
   "mimetype": "text/x-python",
   "name": "python",
   "nbconvert_exporter": "python",
   "pygments_lexer": "ipython3",
   "version": "3.8.10"
  }
 },
 "nbformat": 4,
 "nbformat_minor": 5
}
